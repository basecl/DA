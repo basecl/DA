{
 "cells": [
  {
   "cell_type": "code",
   "execution_count": 11,
   "id": "a257e3ba-9ad2-40a1-8ca4-96c40d943851",
   "metadata": {
    "tags": []
   },
   "outputs": [
    {
     "ename": "SyntaxError",
     "evalue": "invalid syntax (3085632279.py, line 8)",
     "output_type": "error",
     "traceback": [
      "\u001b[1;36m  Cell \u001b[1;32mIn[11], line 8\u001b[1;36m\u001b[0m\n\u001b[1;33m    from my module import square, double\u001b[0m\n\u001b[1;37m            ^\u001b[0m\n\u001b[1;31mSyntaxError\u001b[0m\u001b[1;31m:\u001b[0m invalid syntax\n"
     ]
    }
   ],
   "source": [
    "import requests\n",
    "from bs4 import BeautifulSoup\n",
    "import pandas as pd\n",
    "import logging\n",
    "import psycopg2\n",
    "from psycopg2 import sql"
   ]
  },
  {
   "cell_type": "code",
   "execution_count": 2,
   "id": "ef314989-2908-41a8-9865-3fb83810ce69",
   "metadata": {
    "tags": []
   },
   "outputs": [],
   "source": [
    "logging.basicConfig(filename='etl_log.log', level=logging.INFO, format='%(asctime)s - %(levelname)s - %(message)s')"
   ]
  },
  {
   "cell_type": "code",
   "execution_count": 3,
   "id": "e41bfea3-150a-4376-a3eb-becd9f9f6a8f",
   "metadata": {
    "tags": []
   },
   "outputs": [],
   "source": [
    "def get_data(url):\n",
    "    headers = {\n",
    "        \"User-Agent\": \"Mozilla/5.0 (Linux; Android 6.0; Nexus 5 Build/MRA58N) AppleWebKit/537.36 (KHTML, like Gecko) Chrome/119.0.0.0 Mobile Safari/537.36\"\n",
    "    }\n",
    "\n",
    "    try:\n",
    "        r = requests.get(url=url, headers=headers)\n",
    "        r.raise_for_status()\n",
    "    except requests.exceptions.RequestException as e:\n",
    "        print(f\"Error in making the request: {e}\")\n",
    "        return None\n",
    "\n",
    "    soup = BeautifulSoup(r.text, \"lxml\")\n",
    "\n",
    "    table_all = soup.find_all(\"table\", class_=\"wikitable sortable mw-collapsible\")\n",
    "\n",
    "    if len(table_all) < 2:\n",
    "        print(\"Error: Table not found.\")\n",
    "        return None\n",
    "\n",
    "    value_tr = table_all[1].find(\"tbody\")\n",
    "    rows = value_tr.find_all('td')\n",
    "\n",
    "    def clean_text(text):\n",
    "        if \",\" in text:\n",
    "            return text.replace(\"\\n\", \"\").replace(\".\",\"\").replace(\",\", \".\")\n",
    "        else:\n",
    "            return text.replace(\"\\n\", \"\").replace(\"\\xa0 \", \"\").replace(\",\", \".\")\n",
    "\n",
    "    data = [(clean_text(rows[i].text), clean_text(rows[i + 1].text), round(float(clean_text(rows[i + 2].text)),2))\n",
    "            for i in range(0, len(rows), 3)]\n",
    "\n",
    "    final_df = pd.DataFrame(data, columns=['Rank', 'Bank_Name', 'US']).astype({'Rank': int, 'Bank_Name': str,'US': float})\n",
    "    return final_df"
   ]
  },
  {
   "cell_type": "code",
   "execution_count": 4,
   "id": "3306c944-8164-479a-b674-1793547b489e",
   "metadata": {
    "tags": []
   },
   "outputs": [],
   "source": [
    "def load_money():\n",
    "    \n",
    "    base_currency = \"USD\"\n",
    "\n",
    "    url = f\"https://open.er-api.com/v6/latest/{base_currency}\"\n",
    "\n",
    "    params = {\"base\": base_currency, \"symbols\": \"EUR,GBP,INR\"}\n",
    "\n",
    "    response = requests.get(url)\n",
    "\n",
    "    if response.status_code == 200:\n",
    "        data = response.json()\n",
    "        final_data = {\"EUR\" : data['rates'][\"EUR\"], \"GBP\" : data['rates'][\"GBP\"], \"INR\" : data['rates'][\"INR\"]}\n",
    "        return final_data\n",
    "\n",
    "    else:\n",
    "        print(f\"Error: {response.status_code}\")\n",
    "        return None"
   ]
  },
  {
   "cell_type": "code",
   "execution_count": 5,
   "id": "33edd19a-b742-4285-825a-1657159c9c05",
   "metadata": {
    "tags": []
   },
   "outputs": [],
   "source": [
    "def convert(money, value_money, types = None):\n",
    "    try:\n",
    "        return round(float(money * value_money[types]),2)\n",
    "    \n",
    "    except requests.exceptions.RequestException as e:\n",
    "        print(f\"Error in making the request: {e}\")\n",
    "        return None"
   ]
  },
  {
   "cell_type": "code",
   "execution_count": 6,
   "id": "d22f6e28-23e5-4a01-81dd-4a6f975c9f81",
   "metadata": {
    "tags": []
   },
   "outputs": [],
   "source": [
    "def transform(prep_data):\n",
    "    conversion_rates = load_money()\n",
    "    for currency_type in [\"EUR\", \"GBP\", \"INR\"]:\n",
    "        prep_data[currency_type] = prep_data['US'].apply(lambda x: convert(x, conversion_rates, types = currency_type))\n",
    "    return prep_data"
   ]
  },
  {
   "cell_type": "code",
   "execution_count": 7,
   "id": "5bce9c98-4feb-471b-90d2-3e181ffceb2f",
   "metadata": {
    "tags": []
   },
   "outputs": [],
   "source": [
    "db_params = {\n",
    "    'host': '127.0.0.1',\n",
    "    'database': 'microecon',\n",
    "    'user': 'postgres',\n",
    "    'password': '1111',\n",
    "}\n",
    "\n",
    "db_name = \"bank\"\n",
    "\n",
    "create_table_query = f\"\"\"\n",
    "    CREATE TABLE IF NOT EXISTS {db_name} (\n",
    "        rank INTEGER PRIMARY KEY,\n",
    "        Bank_Name CHARACTER VARYING(50),\n",
    "        US  DOUBLE PRECISION,\n",
    "        EUR  DOUBLE PRECISION,\n",
    "        GBP  DOUBLE PRECISION,\n",
    "        INR  DOUBLE PRECISION\n",
    "    );\n",
    "\"\"\""
   ]
  },
  {
   "cell_type": "code",
   "execution_count": 8,
   "id": "c40c640a-69d1-455a-a076-cc7b9e79bdeb",
   "metadata": {
    "tags": []
   },
   "outputs": [],
   "source": [
    "def load_to_db(tr_data):\n",
    "    data_tuples = [tuple(row) for row in tr_data.values]\n",
    "    connection = psycopg2.connect(**db_params)\n",
    "    cursor = connection.cursor()\n",
    "    cursor.execute(create_table_query)\n",
    "    connection.commit()\n",
    "    insert_query = sql.SQL(f\"INSERT INTO {db_name} ({', '.join(tr_data.columns)}) VALUES ({', '.join(['%s' for _ in tr_data.columns])})\")\n",
    "    cursor.executemany(insert_query, data_tuples)\n",
    "    connection.commit()\n",
    "    cursor.close()\n",
    "    connection.close()"
   ]
  },
  {
   "cell_type": "code",
   "execution_count": 9,
   "id": "0d03b2bb-34a6-40d8-bc55-991a0b1b43cf",
   "metadata": {
    "tags": []
   },
   "outputs": [],
   "source": [
    "def test_db(query):\n",
    "    connection = psycopg2.connect(**db_params)\n",
    "    cursor = connection.cursor()\n",
    "    cursor.execute(query)\n",
    "    result = cursor.fetchall()\n",
    "    cursor.close()\n",
    "    connection.close()\n",
    "\n",
    "    return result"
   ]
  },
  {
   "cell_type": "code",
   "execution_count": 10,
   "id": "daeee4a1-76e0-4be8-83a2-7bd511ac59d4",
   "metadata": {
    "tags": []
   },
   "outputs": [
    {
     "ename": "UniqueViolation",
     "evalue": "ОШИБКА:  повторяющееся значение ключа нарушает ограничение уникальности \"bank_pkey\"\nDETAIL:  Ключ \"(rank)=(1)\" уже существует.\n",
     "output_type": "error",
     "traceback": [
      "\u001b[1;31m---------------------------------------------------------------------------\u001b[0m",
      "\u001b[1;31mUniqueViolation\u001b[0m                           Traceback (most recent call last)",
      "Cell \u001b[1;32mIn[10], line 5\u001b[0m\n\u001b[0;32m      3\u001b[0m trans_data \u001b[38;5;241m=\u001b[39m transform(bank_data)\n\u001b[0;32m      4\u001b[0m logging\u001b[38;5;241m.\u001b[39minfo(\u001b[38;5;124m'\u001b[39m\u001b[38;5;124mData transform.\u001b[39m\u001b[38;5;124m'\u001b[39m)\n\u001b[1;32m----> 5\u001b[0m \u001b[43mload_to_db\u001b[49m\u001b[43m(\u001b[49m\u001b[43mtrans_data\u001b[49m\u001b[43m)\u001b[49m\n\u001b[0;32m      6\u001b[0m logging\u001b[38;5;241m.\u001b[39minfo(\u001b[38;5;124m'\u001b[39m\u001b[38;5;124mLoad in bd.\u001b[39m\u001b[38;5;124m'\u001b[39m)\n\u001b[0;32m      7\u001b[0m bank_data\u001b[38;5;241m.\u001b[39mto_csv(\u001b[38;5;124m'\u001b[39m\u001b[38;5;124mbank_data\u001b[39m\u001b[38;5;124m'\u001b[39m, index \u001b[38;5;241m=\u001b[39m \u001b[38;5;28;01mFalse\u001b[39;00m)\n",
      "Cell \u001b[1;32mIn[8], line 8\u001b[0m, in \u001b[0;36mload_to_db\u001b[1;34m(tr_data)\u001b[0m\n\u001b[0;32m      6\u001b[0m connection\u001b[38;5;241m.\u001b[39mcommit()\n\u001b[0;32m      7\u001b[0m insert_query \u001b[38;5;241m=\u001b[39m sql\u001b[38;5;241m.\u001b[39mSQL(\u001b[38;5;124mf\u001b[39m\u001b[38;5;124m\"\u001b[39m\u001b[38;5;124mINSERT INTO \u001b[39m\u001b[38;5;132;01m{\u001b[39;00mdb_name\u001b[38;5;132;01m}\u001b[39;00m\u001b[38;5;124m (\u001b[39m\u001b[38;5;132;01m{\u001b[39;00m\u001b[38;5;124m'\u001b[39m\u001b[38;5;124m, \u001b[39m\u001b[38;5;124m'\u001b[39m\u001b[38;5;241m.\u001b[39mjoin(tr_data\u001b[38;5;241m.\u001b[39mcolumns)\u001b[38;5;132;01m}\u001b[39;00m\u001b[38;5;124m) VALUES (\u001b[39m\u001b[38;5;132;01m{\u001b[39;00m\u001b[38;5;124m'\u001b[39m\u001b[38;5;124m, \u001b[39m\u001b[38;5;124m'\u001b[39m\u001b[38;5;241m.\u001b[39mjoin([\u001b[38;5;124m'\u001b[39m\u001b[38;5;132;01m%s\u001b[39;00m\u001b[38;5;124m'\u001b[39m\u001b[38;5;250m \u001b[39m\u001b[38;5;28;01mfor\u001b[39;00m\u001b[38;5;250m \u001b[39m_\u001b[38;5;250m \u001b[39m\u001b[38;5;129;01min\u001b[39;00m\u001b[38;5;250m \u001b[39mtr_data\u001b[38;5;241m.\u001b[39mcolumns])\u001b[38;5;132;01m}\u001b[39;00m\u001b[38;5;124m)\u001b[39m\u001b[38;5;124m\"\u001b[39m)\n\u001b[1;32m----> 8\u001b[0m \u001b[43mcursor\u001b[49m\u001b[38;5;241;43m.\u001b[39;49m\u001b[43mexecutemany\u001b[49m\u001b[43m(\u001b[49m\u001b[43minsert_query\u001b[49m\u001b[43m,\u001b[49m\u001b[43m \u001b[49m\u001b[43mdata_tuples\u001b[49m\u001b[43m)\u001b[49m\n\u001b[0;32m      9\u001b[0m connection\u001b[38;5;241m.\u001b[39mcommit()\n\u001b[0;32m     10\u001b[0m cursor\u001b[38;5;241m.\u001b[39mclose()\n",
      "\u001b[1;31mUniqueViolation\u001b[0m: ОШИБКА:  повторяющееся значение ключа нарушает ограничение уникальности \"bank_pkey\"\nDETAIL:  Ключ \"(rank)=(1)\" уже существует.\n"
     ]
    }
   ],
   "source": [
    "bank_data = get_data(\"https://en.wikipedia.org/wiki/List_of_largest_banks\")\n",
    "logging.info('Data load.')\n",
    "trans_data = transform(bank_data)\n",
    "logging.info('Data transform.')\n",
    "load_to_db(trans_data)\n",
    "logging.info('Load in bd.')\n",
    "bank_data.to_csv('bank_data', index = False)\n",
    "logging.info('Save in csv.')\n",
    "print(test_db(\"SELECT * FROM bank\"))\n",
    "logging.info('All value in bd.')"
   ]
  },
  {
   "cell_type": "code",
   "execution_count": null,
   "id": "38bd8921-eadb-41bb-93ee-33bcb40b87d5",
   "metadata": {},
   "outputs": [],
   "source": []
  }
 ],
 "metadata": {
  "kernelspec": {
   "display_name": "Python 3 (ipykernel)",
   "language": "python",
   "name": "python3"
  },
  "language_info": {
   "codemirror_mode": {
    "name": "ipython",
    "version": 3
   },
   "file_extension": ".py",
   "mimetype": "text/x-python",
   "name": "python",
   "nbconvert_exporter": "python",
   "pygments_lexer": "ipython3",
   "version": "3.10.13"
  }
 },
 "nbformat": 4,
 "nbformat_minor": 5
}
