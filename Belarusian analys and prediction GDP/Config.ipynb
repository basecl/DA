{
 "cells": [
  {
   "cell_type": "code",
   "execution_count": 10,
   "id": "c7cb6bd4-6089-47dc-b744-6c2da39e1b9f",
   "metadata": {
    "tags": []
   },
   "outputs": [],
   "source": [
    "import numpy as np\n",
    "from sklearn.ensemble import RandomForestRegressor, GradientBoostingRegressor\n",
    "from sklearn.linear_model import LinearRegression"
   ]
  },
  {
   "cell_type": "code",
   "execution_count": 14,
   "id": "f75f9d22-27c3-4f74-bcdd-3303cb4eb385",
   "metadata": {
    "tags": []
   },
   "outputs": [],
   "source": [
    "class Config:\n",
    "    indicators = {\n",
    "        'NY.GDP.MKTP.CD': 'GDP',\n",
    "        'NE.GDI.TOTL.CD': 'Gross Capital Formation',\n",
    "        'SL.TLF.TOTL.IN': 'Total Employment',}\n",
    "    country_code = 'BY'\n",
    "    output_filename_first_anim = 'anim1.gif'\n",
    "    output_filename_second_anim = 'anim2.gif'\n",
    "    num_folds = 30\n",
    "    keys_to_select = ['MSE', 'MAE', 'RMSE']\n",
    "    arr = np.arange(1, 31)\n",
    "    models = [\n",
    "        (\"Linear Regression\", LinearRegression()),\n",
    "        (\"Gradient Boosting Regressor\", GradientBoostingRegressor(n_estimators=100, learning_rate=0.1, random_state=42)),\n",
    "        (\"Random Forest Regressor\", RandomForestRegressor(n_estimators=100, random_state=42))\n",
    "    ]"
   ]
  },
  {
   "cell_type": "code",
   "execution_count": null,
   "id": "6a5e7e4a-9ed5-4ee9-93de-f98a65372db5",
   "metadata": {},
   "outputs": [],
   "source": []
  }
 ],
 "metadata": {
  "kernelspec": {
   "display_name": "Python 3 (ipykernel)",
   "language": "python",
   "name": "python3"
  },
  "language_info": {
   "codemirror_mode": {
    "name": "ipython",
    "version": 3
   },
   "file_extension": ".py",
   "mimetype": "text/x-python",
   "name": "python",
   "nbconvert_exporter": "python",
   "pygments_lexer": "ipython3",
   "version": "3.10.13"
  }
 },
 "nbformat": 4,
 "nbformat_minor": 5
}
