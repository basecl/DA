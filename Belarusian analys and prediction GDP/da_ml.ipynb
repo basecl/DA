{
 "cells": [
  {
   "cell_type": "markdown",
   "id": "919cc3d3-7c4a-4806-84b5-a84e8f7d5a43",
   "metadata": {
    "tags": []
   },
   "source": [
    "# <div style=\"text-align: center;\"> Using data analytics and machine learning on Belarus data <div>"
   ]
  },
  {
   "cell_type": "markdown",
   "id": "f8f1e830-0cee-4bdf-bb48-00d840ea25be",
   "metadata": {
    "tags": []
   },
   "source": [
    "### Introduction"
   ]
  },
  {
   "cell_type": "markdown",
   "id": "cbba476a-8aca-4405-bc1c-48c90fbbc75f",
   "metadata": {},
   "source": [
    "This Jupyter Lab research paper code is aimed at conducting data analysis and regression modeling on a dataset. The dataset appears to contain economic and demographic information. The code is divided into several sections, each serving a specific purpose."
   ]
  },
  {
   "cell_type": "markdown",
   "id": "07817568-f29e-4b80-a3ba-09e5af93a6b6",
   "metadata": {
    "tags": []
   },
   "source": [
    "## <div style=\"text-align: center;\"> Data Preparation and Visualization <div>"
   ]
  },
  {
   "cell_type": "markdown",
   "id": "e517f696-8e65-41d4-b8ca-b02f4dccc1f5",
   "metadata": {
    "tags": []
   },
   "source": [
    "### Data Import and Overview"
   ]
  },
  {
   "cell_type": "code",
   "execution_count": 1,
   "id": "9b1957aa-7236-4586-a966-734447aef2c7",
   "metadata": {
    "tags": []
   },
   "outputs": [],
   "source": [
    "%run Config.ipynb"
   ]
  },
  {
   "cell_type": "markdown",
   "id": "f6de1b1a-d02f-4be1-af3b-63a7e3d361d0",
   "metadata": {},
   "source": [
    "This line runs a Jupyter Notebook file named `Config.ipynb`, presumably containing configuration settings and data."
   ]
  },
  {
   "cell_type": "code",
   "execution_count": 2,
   "id": "e61f49da-9a60-4b07-87d3-57c43aff1525",
   "metadata": {
    "tags": []
   },
   "outputs": [],
   "source": [
    "import pandas as pd\n",
    "import numpy as np\n",
    "import matplotlib.pyplot as plt\n",
    "import wbdata\n",
    "import seaborn as sns\n",
    "from matplotlib.animation import FuncAnimation\n",
    "from mpl_toolkits.mplot3d import Axes3D\n",
    "from matplotlib.colors import ListedColormap\n",
    "from matplotlib.gridspec import GridSpec\n",
    "from IPython.display import Image\n",
    "from matplotlib.ticker import MultipleLocator\n",
    "from sklearn.metrics import mean_squared_error, mean_absolute_error, mean_absolute_percentage_error\n",
    "from sklearn.ensemble import RandomForestRegressor, GradientBoostingRegressor\n",
    "from sklearn.linear_model import LinearRegression\n",
    "from scipy.optimize import curve_fit\n",
    "from sklearn.model_selection import train_test_split, cross_val_score"
   ]
  },
  {
   "cell_type": "markdown",
   "id": "6331925c-1d86-4a0d-aa37-afe3ba4fec9f",
   "metadata": {},
   "source": [
    "These lines import necessary libraries for data manipulation, visualization, and machine learning."
   ]
  },
  {
   "cell_type": "markdown",
   "id": "90f64045-403a-4d76-b671-5806d05221c7",
   "metadata": {},
   "source": [
    "## <div style=\"text-align: center;\"> Data Preparation</div>"
   ]
  },
  {
   "cell_type": "markdown",
   "id": "3acbabec-3432-4236-883f-d588a52d0de2",
   "metadata": {},
   "source": [
    "Using the `wbdata` library we get the necessary data for the desired country."
   ]
  },
  {
   "cell_type": "code",
   "execution_count": null,
   "id": "ab01b287-83be-4732-9efb-cba4c53d8667",
   "metadata": {
    "tags": []
   },
   "outputs": [],
   "source": [
    "data = wbdata.get_dataframe(Config.indicators, country=Config.country_code)\n",
    "df = data.iloc[:33]"
   ]
  },
  {
   "cell_type": "markdown",
   "id": "2ae9164f-9cd0-422b-89ca-5d74bf11a050",
   "metadata": {
    "tags": []
   },
   "source": [
    "## <div style=\"text-align: center;\"> Data Analysis and Visualization </div>"
   ]
  },
  {
   "cell_type": "markdown",
   "id": "59f230da-3216-49d8-af14-d00f74143c7c",
   "metadata": {},
   "source": [
    "Function `load_and_explore_data` includes:\n",
    "<ol style=\"list-style-type: square; padding-left: 20px; margin-bottom: 20px;\">\n",
    "    <li>Information about dataframe</li>\n",
    "    <li>Summary statistics</li>\n",
    "    <li>Correlation matrix</li>\n",
    "</ol>"
   ]
  },
  {
   "cell_type": "code",
   "execution_count": 4,
   "id": "66d07fcc-96a9-4594-9316-c2a6835e23f2",
   "metadata": {
    "tags": []
   },
   "outputs": [
    {
     "name": "stdout",
     "output_type": "stream",
     "text": [
      "<class 'wbdata.api.WBDataFrame'>\n",
      "Index: 33 entries, 2022 to 1990\n",
      "Data columns (total 3 columns):\n",
      " #   Column                   Non-Null Count  Dtype  \n",
      "---  ------                   --------------  -----  \n",
      " 0   GDP                      33 non-null     float64\n",
      " 1   Gross Capital Formation  33 non-null     float64\n",
      " 2   Total Employment         33 non-null     float64\n",
      "dtypes: float64(3)\n",
      "memory usage: 1.0+ KB\n",
      "None\n",
      "               GDP  Gross Capital Formation  Total Employment\n",
      "date                                                         \n",
      "2022  7.279346e+10             1.599734e+10         4833522.0\n",
      "2021  6.967375e+10             1.698681e+10         4892246.0\n",
      "2020  6.137176e+10             1.684966e+10         4931564.0\n",
      "2019  6.441011e+10             1.877537e+10         4971033.0\n",
      "2018  6.003116e+10             1.685604e+10         4998649.0\n",
      "2017  5.472531e+10             1.533994e+10         5025143.0\n",
      "2016  4.772355e+10             1.263594e+10         5038419.0\n",
      "2015  5.645490e+10             1.639145e+10         5042141.0\n",
      "2014  7.881279e+10             2.745962e+10         5042125.0\n",
      "2013  7.552754e+10             2.930319e+10         5043888.0\n",
      "2012  6.568590e+10             2.305199e+10         5045691.0\n",
      "2011  6.176234e+10             2.298646e+10         5043198.0\n",
      "2010  5.723190e+10             2.326841e+10         5034023.0\n",
      "2009  5.087318e+10             1.875391e+10         5018321.0\n",
      "2008  6.075218e+10             2.286812e+10         4995641.0\n",
      "2007  4.527575e+10             1.543536e+10         4970097.0\n",
      "2006  3.696182e+10             1.189584e+10         4947148.0\n",
      "2005  3.021009e+10             8.597933e+09         4930387.0\n",
      "2004  2.314159e+10             6.634070e+09         4914756.0\n",
      "2003  1.782544e+10             4.448218e+09         4897259.0\n",
      "2002  1.459493e+10             3.236696e+09         4874607.0\n",
      "2001  1.235482e+10             2.935612e+09         4840761.0\n",
      "2000  1.273686e+10             3.234993e+09         4792992.0\n",
      "1999  1.213849e+10             2.877643e+09         4735445.0\n",
      "1998  1.522201e+10             4.066099e+09         4711157.0\n",
      "1997  1.412841e+10             3.791635e+09         4705649.0\n",
      "1996  1.475685e+10             3.470692e+09         4721328.0\n",
      "1995  1.397268e+10             3.458210e+09         4725255.0\n",
      "1994  1.493202e+10             4.917758e+09         4700525.0\n",
      "1993  1.628099e+10             6.677686e+09         4676652.0\n",
      "                GDP  Gross Capital Formation  Total Employment\n",
      "count  3.300000e+01             3.300000e+01      3.300000e+01\n",
      "mean   3.906211e+10             1.213070e+10      4.880498e+06\n",
      "std    2.348591e+10             8.173819e+09      1.422180e+05\n",
      "min    1.213849e+10             2.877643e+09      4.644143e+06\n",
      "25%    1.522201e+10             4.448218e+09      4.725255e+06\n",
      "50%    3.696182e+10             1.189584e+10      4.914756e+06\n",
      "75%    6.075218e+10             1.698681e+10      5.018321e+06\n",
      "max    7.881279e+10             2.930319e+10      5.045691e+06\n"
     ]
    },
    {
     "data": {
      "image/png": "[encoded data removed]",
      "text/plain": [
       "<Figure size 800x600 with 2 Axes>"
      ]
     },
     "metadata": {},
     "output_type": "display_data"
    }
   ],
   "source": [
    "def load_and_explore_data(df):\n",
    "    print(df.info())\n",
    "    print(df.head(30))\n",
    "    print(df.describe())\n",
    "\n",
    "    correlation_matrix = df.corr()\n",
    "    plt.figure(figsize=(8, 6))\n",
    "    sns.heatmap(correlation_matrix, annot=True, cmap='coolwarm', linewidths=.5, cbar=True, annot_kws={\"size\": 10, \"color\": 'black'})\n",
    "    plt.title('Correlation Heatmap')\n",
    "    plt.show()\n",
    "\n",
    "load_and_explore_data(df)"
   ]
  },
  {
   "cell_type": "markdown",
   "id": "558d4b83-5042-4885-a151-600c9f5a3d2f",
   "metadata": {
    "tags": []
   },
   "source": [
    "### 3D Analysis"
   ]
  },
  {
   "cell_type": "markdown",
   "id": "934c2282-c4c7-4599-8e2a-dc45ea453d13",
   "metadata": {},
   "source": [
    "To create a 3D animation for data analysis, several key actions are taken:\n",
    "\n",
    "- **Define an Initial Figure Function**: Start by defining a function that creates the initial figure, setting up the plot's structure and properties.\n",
    "\n",
    "- **Create an Update Function**: Next, create an update function responsible for updating the animation frames. This function will modify the data or plot properties at each frame to create the animation effect.\n",
    "\n",
    "- **Save the Animation**: Finally, once the animation is created and configured, save it to a suitable format, such as a video file or an animated GIF, so that it can be easily shared and used for further analysis.\n",
    "\n",
    "These steps provide a structured approach to building 3D animations for effective data analysis."
   ]
  },
  {
   "cell_type": "code",
   "execution_count": null,
   "id": "b34b2c79-e8d0-4730-9b28-4a2f0bea675b",
   "metadata": {
    "tags": []
   },
   "outputs": [],
   "source": [
    "%%capture --no-stdout\n",
    "def makeFigure():\n",
    "    fig = plt.figure(figsize=(12, 10))\n",
    "    gs = GridSpec(3, 1, height_ratios=[1, 1, 2], hspace=0.3)\n",
    "\n",
    "    ax = fig.add_subplot(gs[2, 0], projection='3d')\n",
    "    ax2 = fig.add_subplot(gs[1, 0])\n",
    "    ax3 = fig.add_subplot(gs[0, 0])\n",
    "    \n",
    "    ax3.set(yscale='log')\n",
    "\n",
    "    line, = ax.plot(df['GDP'], df['Gross Capital Formation'], df.index.tolist()[::-1], color='b', linewidth=2)\n",
    "    \n",
    "    ax2_line_exports, = ax2.plot(df.index.tolist()[::-1], df['Total Employment'], label='Employment', marker='o', linestyle='-', color='b')\n",
    "    \n",
    "    ax3_line_imports, = ax3.plot(df.index.tolist()[::-1], df['Gross Capital Formation'], label='Gross Capital Formation', marker='s', linestyle='--', color='r')\n",
    "    ax3_line_gdp, = ax3.plot(df.index.tolist()[::-1], df['GDP'], label='GDP', marker='x', linestyle='dashed', color='g')\n",
    "    ax3.set_ylabel('Values', fontsize=12)\n",
    "    ax3.set_title('Gross Capital Formation and GDP Over Time', fontsize=16)\n",
    "    ax3.xaxis.set_major_locator(MultipleLocator(base=5))\n",
    "    ax3.legend()\n",
    "    \n",
    "    ax2.set_ylabel('Values', fontsize=12)\n",
    "    ax2.set_title('Exports', fontsize=16)\n",
    "    ax2.xaxis.set_major_locator(MultipleLocator(base=5))\n",
    "    ax2.legend()\n",
    "\n",
    "    ax.set_title('GDP vs Gross Capital Formation', fontsize=16)\n",
    "    ax.set_xlabel('GDP', fontsize=12)\n",
    "    ax.set_ylabel('Gross Capital Formation', fontsize=12)\n",
    "    ax.set_zlabel('Year', fontsize=12, rotation=90)\n",
    "\n",
    "    ax.set(yscale='linear')\n",
    "    \n",
    "    return fig, ax, line, ax3, ax2_line_exports, ax3_line_imports, ax3_line_gdp\n",
    "\n",
    "figcomps = makeFigure()\n",
    "\n",
    "def update(frame, line, ax3, ax2_line_exports, ax3_line_imports, ax3_line_gdp):\n",
    "    line.set_data(df['GDP'][:frame], df['Gross Capital Formation'][:frame])\n",
    "    line.set_3d_properties(df.index.tolist()[::-1][:frame])\n",
    "    ax2_line_exports.set_data(df.index.tolist()[::-1][:frame], df['Total Employment'][:frame])\n",
    "    ax3_line_imports.set_data(df.index.tolist()[::-1][:frame], df['Gross Capital Formation'][:frame])\n",
    "    ax3_line_gdp.set_data(df.index.tolist()[::-1][:frame], df['GDP'][:frame])\n",
    "\n",
    "    return line, ax2_line_exports, ax3_line_imports, ax3_line_gdp\n",
    "\n",
    "anim = FuncAnimation(figcomps[0], update, fargs=(figcomps[2], figcomps[3], figcomps[4], figcomps[5], figcomps[6]), frames=len(df.index.tolist()) + 1, interval=500, blit=True,repeat=False, cache_frame_data=False)\n",
    "\n",
    "_ = anim\n",
    "\n",
    "anim.save(Config.output_filename_first_anim, writer='pillow', fps=60)"
   ]
  },
  {
   "cell_type": "code",
   "execution_count": null,
   "id": "236f66e9-d0e7-44df-8df3-5ea1ad683b00",
   "metadata": {
    "tags": []
   },
   "outputs": [],
   "source": [
    "Image(Config.output_filename_first_anim)"
   ]
  },
  {
   "cell_type": "markdown",
   "id": "769c8069-7e8e-4092-9a66-2ff502318256",
   "metadata": {
    "tags": []
   },
   "source": [
    "## <div style=\"text-align: center;\"> Machine Learning Models <div>"
   ]
  },
  {
   "cell_type": "markdown",
   "id": "3918a967-25fa-432d-85bc-6ffab3e04040",
   "metadata": {
    "tags": []
   },
   "source": [
    "**Step 1 : Split the data into training and testing sets**"
   ]
  },
  {
   "cell_type": "code",
   "execution_count": null,
   "id": "7407966f-b6e5-4aba-86ae-18c7d98fd157",
   "metadata": {
    "tags": []
   },
   "outputs": [],
   "source": [
    "X, y  = df.drop(columns=['GDP'], axis=1) , df['GDP']\n",
    "X_train, X_test, y_train, y_test = train_test_split(X, y, test_size=0.2)"
   ]
  },
  {
   "cell_type": "markdown",
   "id": "84a1bd2b-9bf9-4abc-8562-a29510209c57",
   "metadata": {},
   "source": [
    "**Step 2 : Evaluate the models and get the metrics**"
   ]
  },
  {
   "cell_type": "code",
   "execution_count": null,
   "id": "9a0e6b40-f083-43e9-a247-c4e77d5e9e21",
   "metadata": {
    "tags": []
   },
   "outputs": [],
   "source": [
    "def evaluate_models():\n",
    "    \n",
    "    ev_metrics = {'MSE': {}, 'MAE': {}, 'RMSE': {}}\n",
    "    for name, model in Config.models:\n",
    "        mae = -cross_val_score(model, X, y, cv=Config.num_folds, scoring='neg_mean_absolute_error')\n",
    "        mse = -cross_val_score(model, X, y, cv=Config.num_folds, scoring='neg_mean_squared_error')\n",
    "        RMSE = -cross_val_score(model, X, y, cv=Config.num_folds, scoring='neg_mean_absolute_percentage_error')\n",
    "\n",
    "\n",
    "\n",
    "        ev_metrics['MSE'][name] = mse\n",
    "        ev_metrics['MAE'][name] = mae\n",
    "        ev_metrics['RMSE'][name] = RMSE\n",
    "\n",
    "\n",
    "\n",
    "    summary_ev_metrics = {\n",
    "        'MSE': [scores[-1] for scores in ev_metrics['MSE'].values()],\n",
    "        'MAE': [scores[-1] for scores in ev_metrics['MAE'].values()],\n",
    "        'RMSE': [np.max(scores) for scores in ev_metrics['RMSE'].values()]\n",
    "    }\n",
    "    \n",
    "    return ev_metrics, summary_ev_metrics\n",
    "\n",
    "metrics, summary_metrics = evaluate_models()"
   ]
  },
  {
   "cell_type": "markdown",
   "id": "eaaed8ed-7bb1-4a4a-86e8-be15989309df",
   "metadata": {},
   "source": [
    "**Step 3 : Display the summary metrics**"
   ]
  },
  {
   "cell_type": "code",
   "execution_count": null,
   "id": "7d13274e-d5e6-4a7a-9e28-e0d3a5e01a1c",
   "metadata": {
    "tags": []
   },
   "outputs": [],
   "source": [
    "summary_metrics"
   ]
  },
  {
   "cell_type": "markdown",
   "id": "ddf6c5ed-3809-46e2-94af-cad3cf177244",
   "metadata": {
    "tags": []
   },
   "source": [
    "## <div style=\"text-align: center;\"> Visualization of Model Performance <div> "
   ]
  },
  {
   "cell_type": "markdown",
   "id": "2b2a6f05-6d88-430d-8ab9-081b9a4d70b7",
   "metadata": {},
   "source": [
    "We will analyze the model's performance by visualizing various graphs. The process can be divided into three key steps:"
   ]
  },
  {
   "cell_type": "markdown",
   "id": "3bde49c5-120c-49e9-987e-d4a78972e56c",
   "metadata": {},
   "source": [
    "### 1. Loss Plotting"
   ]
  },
  {
   "cell_type": "markdown",
   "id": "64905ed7-37d8-4e59-951d-54755973631e",
   "metadata": {},
   "source": [
    "To gain insights into the model's performance, we start by creating a `Loss_Plot` function. This function will display the final values of various metrics, providing an overview of the model's performance."
   ]
  },
  {
   "cell_type": "code",
   "execution_count": null,
   "id": "57b28900-e80b-485e-855b-666dd87f2d1f",
   "metadata": {
    "tags": []
   },
   "outputs": [],
   "source": [
    "def Loss_Plot(model,data):\n",
    "    x = np.arange(len(model))\n",
    "    width = 0.25\n",
    "    multiplier = 0\n",
    "\n",
    "    fig, ax = plt.subplots(figsize=(10, 6), layout = 'constrained')\n",
    "    ax.set(yscale='log')\n",
    "\n",
    "    for attribute, measurement in data.items():\n",
    "        offset = width * multiplier\n",
    "        rects = ax.bar(x + offset, measurement, width, label=attribute)\n",
    "        ax.bar_label(rects, padding=3)\n",
    "        multiplier += 1\n",
    "\n",
    "    ax.set_ylabel('Value')\n",
    "    ax.set_title('Loss functions for regressions')\n",
    "    if len(model) == 3: \n",
    "        ax.set_xticks(x + width, [model[0][0],model[1][0],model[2][0]])\n",
    "    else:\n",
    "        ax.set_xticks(x + width, [model[0][0],model[1][0],model[2][0],model[3][0]])\n",
    "    ax.legend(loc='upper right', ncols=3)\n",
    "\n",
    "    plt.show()"
   ]
  },
  {
   "cell_type": "markdown",
   "id": "30c3059b-dab3-4177-8b5a-a5fd507d534d",
   "metadata": {},
   "source": [
    "### 2. Animated Training Progress"
   ]
  },
  {
   "cell_type": "markdown",
   "id": "2a1add1c-a8dc-499b-ade5-b1a5a9ef285c",
   "metadata": {},
   "source": [
    "Next, we'll create animated graphs that allow us to track how different metrics evolve during the training process. These dynamic visuals provide a real-time view of the model's learning journey."
   ]
  },
  {
   "cell_type": "code",
   "execution_count": null,
   "id": "6eff2d5d-a49a-47c3-86cc-91a49c618ffd",
   "metadata": {
    "tags": []
   },
   "outputs": [],
   "source": [
    "%%capture --no-stdout\n",
    "fig, axes = plt.subplots(3, 1, figsize=(10, 10))\n",
    "plt.subplots_adjust(hspace=0.5)\n",
    "\n",
    "def update(frame):\n",
    "    for i, metric in enumerate(Config.keys_to_select):\n",
    "        axes[i].clear()\n",
    "        axes[i].set_title(f\"{metric} over Models\")\n",
    "        axes[i].set_xlabel(\"Models\")\n",
    "        axes[i].set_ylabel(metric)\n",
    "        axes[i].set(yscale='log')\n",
    "        \n",
    "        for model in Config.models:\n",
    "            axes[i].plot(Config.arr[:frame], metrics[metric][model[0]][:frame], marker='o', label=model[0])\n",
    "        axes[i].legend(loc='best')\n",
    "        axes[i].grid()\n",
    "\n",
    "ani = FuncAnimation(fig, update, frames=len(Config.arr), repeat=False)\n",
    "\n",
    "_ = ani\n",
    "\n",
    "ani.save(Config.output_filename_second_anim, writer='pillow', fps=3)"
   ]
  },
  {
   "cell_type": "markdown",
   "id": "27bff866-07f4-457f-a27b-a110bc6ea340",
   "metadata": {},
   "source": [
    "### 3. Visualization and Analysis"
   ]
  },
  {
   "cell_type": "markdown",
   "id": "ebdbc765-f70b-49f6-83ec-875a5d4c5c5d",
   "metadata": {},
   "source": [
    "In the final step, we'll visualize the obtained graphs. This visual representation helps us analyze the model's behavior and make informed decisions based on the observed trends and patterns."
   ]
  },
  {
   "cell_type": "code",
   "execution_count": null,
   "id": "7e302c54-8b4b-4a90-b6aa-087a945698bc",
   "metadata": {
    "tags": []
   },
   "outputs": [],
   "source": [
    "Image(Config.output_filename_second_anim)"
   ]
  },
  {
   "cell_type": "code",
   "execution_count": null,
   "id": "a0c8eb47-5fe9-48b1-9202-f767bbae5659",
   "metadata": {
    "tags": []
   },
   "outputs": [],
   "source": [
    "Loss_Plot(Config.models,summary_metrics)"
   ]
  },
  {
   "cell_type": "markdown",
   "id": "d984e0ab-64c8-4882-8857-696b9efce658",
   "metadata": {
    "tags": []
   },
   "source": [
    "## <div style=\"text-align: center;\"> Solow model </div>"
   ]
  },
  {
   "cell_type": "markdown",
   "id": "2a0a454b-0c9b-4498-a475-96155b0f0aa9",
   "metadata": {},
   "source": [
    "In our analysis, we will declare the following variables:\n",
    "\n",
    "- **Output (GDP)**: This represents the Gross Domestic Product, which is a key economic indicator.\n",
    "- **Capital**: Capital in this context refers to the labor force, an essential factor in economic production.\n",
    "- **Labor**: Labor is defined as employment, representing the workforce actively engaged in economic activities."
   ]
  },
  {
   "cell_type": "code",
   "execution_count": 15,
   "id": "4303790a-2f49-410f-bff4-70840eb6af60",
   "metadata": {
    "tags": []
   },
   "outputs": [
    {
     "name": "stdout",
     "output_type": "stream",
     "text": [
      "date\n",
      "1992    1.703704e+10\n",
      "2012    6.568590e+10\n",
      "2010    5.723190e+10\n",
      "2004    2.314159e+10\n",
      "1993    1.628099e+10\n",
      "2006    3.696182e+10\n",
      "2018    6.003116e+10\n",
      "Name: GDP, dtype: float64\n",
      "date\n",
      "1992    5.370370e+09\n",
      "2012    2.305199e+10\n",
      "2010    2.326841e+10\n",
      "2004    6.634070e+09\n",
      "1993    6.677686e+09\n",
      "2006    1.189584e+10\n",
      "2018    1.685604e+10\n",
      "Name: Gross Capital Formation, dtype: float64\n",
      "date\n",
      "1992    4659163.0\n",
      "2012    5045691.0\n",
      "2010    5034023.0\n",
      "2004    4914756.0\n",
      "1993    4676652.0\n",
      "2006    4947148.0\n",
      "2018    4998649.0\n",
      "Name: Total Employment, dtype: float64\n"
     ]
    }
   ],
   "source": [
    "output = y_test\n",
    "capital = X_test['Gross Capital Formation']\n",
    "labor = X_test['Total Employment']"
   ]
  },
  {
   "cell_type": "markdown",
   "id": "8000cf0e-8648-428a-892f-ffea4e4feb54",
   "metadata": {},
   "source": [
    "### Solow Growth Model Formula\n",
    "\n",
    "The Solow Growth Model is a fundamental concept in economics, which describes the evolution of an economy's output over time. The formula for the Solow Growth Model is expressed as:\n"
   ]
  },
  {
   "cell_type": "markdown",
   "id": "30fe3b31-3917-452f-89db-ed92a0175c88",
   "metadata": {},
   "source": [
    "$$ Y = (K^s) \\cdot ((1 - s) \\cdot L)^{(1 - s)} \\cdot (1 - δ) \\cdot K + G \\cdot K $$"
   ]
  },
  {
   "cell_type": "code",
   "execution_count": 40,
   "id": "93cee747-0854-453b-9afa-424e0b750b7e",
   "metadata": {
    "tags": []
   },
   "outputs": [],
   "source": [
    "s = 0.2\n",
    "δ = 0.1\n",
    "n = 0.02\n",
    "g = 0.01"
   ]
  },
  {
   "cell_type": "markdown",
   "id": "216f848f-65a1-4adc-ac5e-e7dbcfbe60a4",
   "metadata": {},
   "source": [
    "Where:\n",
    "- \\( Y \\) represents the output (often Gross Domestic Product, GDP).\n",
    "- \\( K \\) is the capital stock.\n",
    "- \\( s \\) is the savings rate.\n",
    "- \\( L \\) stands for the labor force.\n",
    "- \\( δ \\) represents the depreciation rate.\n",
    "- \\( G \\) is the technological progress (growth rate)."
   ]
  },
  {
   "cell_type": "markdown",
   "id": "72d54b72-931a-4834-8222-0cb4c0ab8ccb",
   "metadata": {},
   "source": [
    "This formula helps us understand how factors such as capital accumulation, savings, and technological progress influence an economy's long-term growth and output."
   ]
  },
  {
   "cell_type": "code",
   "execution_count": 19,
   "id": "f7ac29bb-c31c-4c5a-ac7d-23f12ea692c6",
   "metadata": {
    "tags": []
   },
   "outputs": [],
   "source": [
    "solow_pred = []\n",
    "for i in range(len(capital)):\n",
    "    solow_pred.append(predict_GDP(capital[i],labor[i]))"
   ]
  },
  {
   "cell_type": "markdown",
   "id": "6f231ebb-481d-4cc5-bf26-e8cdd92127eb",
   "metadata": {},
   "source": [
    "Predict GDP and add to all metrics for visualization in `Loss_Plot`"
   ]
  },
  {
   "cell_type": "code",
   "execution_count": 20,
   "id": "bbbfca2f-635c-446a-ba14-14887d6afe6d",
   "metadata": {
    "tags": []
   },
   "outputs": [],
   "source": [
    "Solov_model = Config.models\n",
    "Solov_model.append(('Solow model', []))\n",
    "summary_metrics['MSE'].append(mean_absolute_error(output,solow_pred))\n",
    "summary_metrics['MAE'].append(mean_squared_error(output,solow_pred))\n",
    "summary_metrics['RMSE'].append(mean_absolute_percentage_error(output,solow_pred))"
   ]
  },
  {
   "cell_type": "code",
   "execution_count": 21,
   "id": "2cca8adc-d554-48bb-ad42-8492644665b8",
   "metadata": {
    "tags": []
   },
   "outputs": [
    {
     "data": {
      "image/png": "[encoded data removed]",
      "text/plain": [
       "<Figure size 1000x600 with 1 Axes>"
      ]
     },
     "metadata": {},
     "output_type": "display_data"
    }
   ],
   "source": [
    "Loss_Plot(Solov_model,summary_metrics)"
   ]
  },
  {
   "cell_type": "markdown",
   "id": "7f974120-e03b-4323-94ff-1624f4a769e8",
   "metadata": {},
   "source": [
    "Based on the graph, we see that the Solow model loses badly to the regressions"
   ]
  },
  {
   "cell_type": "markdown",
   "id": "4e047494-ac5a-4014-ae32-a997e9502042",
   "metadata": {},
   "source": [
    "## <div style=\"text-align: center;\"> Solow + ML</div>"
   ]
  },
  {
   "cell_type": "markdown",
   "id": "8b9c226f-3740-4bd2-9470-3f5159d40992",
   "metadata": {},
   "source": [
    "In this crucial step, we will meticulously select the optimal values for the parameters s, δ, n, and g by harnessing the power of the `scilearn curve_fit` function. This meticulous process ensures that our model is finely tuned for optimal performance."
   ]
  },
  {
   "cell_type": "code",
   "execution_count": 41,
   "id": "a3c34ff0-a707-4eb7-8fd6-2a00ca95dc53",
   "metadata": {
    "tags": []
   },
   "outputs": [],
   "source": [
    "params, _ = curve_fit(solow_production_function, (capital.values, labor.values), output.values, p0=(0.3, 0.1, 0.02, 0.01), method='trf')\n",
    "s, δ, n, g = params"
   ]
  },
  {
   "cell_type": "markdown",
   "id": "3605eeb6-fa29-4b7e-abbb-fdf7cace69ef",
   "metadata": {},
   "source": [
    "After we have selected the parameters we do all the same steps as before "
   ]
  },
  {
   "cell_type": "code",
   "execution_count": 42,
   "id": "2357aeef-f1b4-4ce2-a2e0-618e3251dac9",
   "metadata": {
    "tags": []
   },
   "outputs": [],
   "source": [
    "solow_pred = []\n",
    "for i in range(len(capital)):\n",
    "    solow_pred.append(predict_GDP(capital[i],labor[i]))"
   ]
  },
  {
   "cell_type": "code",
   "execution_count": 43,
   "id": "daf9aac7-b83a-4b2f-ba5e-289a1e023b67",
   "metadata": {
    "tags": []
   },
   "outputs": [],
   "source": [
    "summary_metrics['MSE'][3]=mean_absolute_error(output,solow_pred)\n",
    "summary_metrics['MAE'][3]=mean_squared_error(output,solow_pred)\n",
    "summary_metrics['RMSE'][3]=mean_absolute_percentage_error(output,solow_pred)"
   ]
  },
  {
   "cell_type": "code",
   "execution_count": 44,
   "id": "0d6a2eef-8d4b-4943-a1e7-bbc40a55c827",
   "metadata": {
    "tags": []
   },
   "outputs": [
    {
     "data": {
      "text/plain": [
       "date\n",
       "1992    1.703704e+10\n",
       "2012    6.568590e+10\n",
       "2010    5.723190e+10\n",
       "2004    2.314159e+10\n",
       "1993    1.628099e+10\n",
       "2006    3.696182e+10\n",
       "2018    6.003116e+10\n",
       "Name: GDP, dtype: float64"
      ]
     },
     "execution_count": 44,
     "metadata": {},
     "output_type": "execute_result"
    }
   ],
   "source": [
    "output"
   ]
  },
  {
   "cell_type": "code",
   "execution_count": 45,
   "id": "245d221c-3dfa-42c1-bb9a-6b144be0e2c9",
   "metadata": {
    "tags": []
   },
   "outputs": [
    {
     "data": {
      "image/png": "[encoded data removed]",
      "text/plain": [
       "<Figure size 1000x600 with 1 Axes>"
      ]
     },
     "metadata": {},
     "output_type": "display_data"
    }
   ],
   "source": [
    "Loss_Plot(Solov_model,summary_metrics)"
   ]
  },
  {
   "cell_type": "markdown",
   "id": "f43a4258-7fe4-45ee-bbd2-9d713a425c3a",
   "metadata": {},
   "source": [
    "We can see that with the right parameters Solow performs almost twice as well and shows better results than regressions. "
   ]
  },
  {
   "cell_type": "markdown",
   "id": "5dbfb440-7873-48cc-9c3a-719b6989dff8",
   "metadata": {
    "tags": []
   },
   "source": [
    "## <div style=\"text-align: center;\"> Conclusion <div>"
   ]
  },
  {
   "cell_type": "markdown",
   "id": "855d78c2-7a49-45b4-9702-dd046f750df6",
   "metadata": {
    "tags": []
   },
   "source": [
    "### Data"
   ]
  },
  {
   "cell_type": "markdown",
   "id": "d1574413-44b5-4710-8728-8b61aa7b8757",
   "metadata": {},
   "source": [
    "The data analysis reveals a strong correlation among GDP, Gross Capital Formation, and Total Employment. The graphical representations unmistakably illustrate their high degree of correlation over the years.\n",
    "\n",
    "Notably, the peak values for these variables were observed during the period from 1995 to 2000, followed by a subsequent decline that persisted until 2014. Afterward, the data appear to have stabilized within a consistent range."
   ]
  },
  {
   "cell_type": "markdown",
   "id": "15bb898b-81c0-40b8-b725-492299435a41",
   "metadata": {},
   "source": [
    "### Model"
   ]
  },
  {
   "cell_type": "markdown",
   "id": "186f8a74-33c5-4aba-8aff-c9960ba96268",
   "metadata": {},
   "source": [
    "After conducting a meticulous analysis of the model's performance using various metrics, a clear pattern emerged: the Random Forest regressor consistently outperforms other regressor models.\n",
    "\n",
    "- **Consistent Excellence**: In comparison to other models, the Random Forest Regressor consistently achieved lower loss values and higher accuracy. It exhibited remarkable stability during training, with minimal fluctuations in performance.\n",
    "\n",
    "- **Solow Model Evaluation**: Initially, the Solow model displayed lackluster results with its original parameters. However, when we optimized these parameters, the Solow model not only caught up but surpassed the regressions by a significant margin.\n",
    "\n",
    "This underscores the pivotal role that parameters play in the Solow model. To attain maximum results, careful parameter selection is imperative. It's evident that thoughtful tuning can transform the Solow model from an underperformer into a superior choice."
   ]
  },
  {
   "cell_type": "markdown",
   "id": "ac829f8d-c253-41ce-b4b1-48bd633be72d",
   "metadata": {},
   "source": [
    "optimize"
   ]
  }
 ],
 "metadata": {
  "kernelspec": {
   "display_name": "Python 3 (ipykernel)",
   "language": "python",
   "name": "python3"
  },
  "language_info": {
   "codemirror_mode": {
    "name": "ipython",
    "version": 3
   },
   "file_extension": ".py",
   "mimetype": "text/x-python",
   "name": "python",
   "nbconvert_exporter": "python",
   "pygments_lexer": "ipython3",
   "version": "3.10.13"
  }
 },
 "nbformat": 4,
 "nbformat_minor": 5
}
